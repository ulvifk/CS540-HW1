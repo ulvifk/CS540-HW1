{
 "cells": [
  {
   "cell_type": "markdown",
   "metadata": {},
   "source": [
    "# CS 440/540 Machine Learning in Finance: Homework 1"
   ]
  },
  {
   "cell_type": "markdown",
   "metadata": {},
   "source": [
    "Download data files from LMS. Code/Explain your solution over this `IPython` notebook at required cells, and complete locally.\n",
    "\n",
    "To submit your assignment, in LMS, upload your solution to LMS as a single notebook with following file name format:\n",
    "\n",
    "`lastName_firstName_CourseNumber_HW1.ipynb`\n",
    "\n",
    "where `CourseNumber` is the course in which you're enrolled (CS 440 or CS 540).\n",
    "\n",
    "Problems on homework assignments are equally weighted. `The Challenge Question is required for CS 540 students and optional for all others.`\n",
    "\n",
    "Any type of plagiarism will not be tolerated. Your submitted codes will be compared with other submissions and also the codes available on internet and violations will have a penalty of -100 points. (In case of copying from\n",
    "another student both parties will get -100)"
   ]
  },
  {
   "cell_type": "markdown",
   "metadata": {},
   "source": [
    "Import all libraries here"
   ]
  },
  {
   "cell_type": "code",
   "execution_count": 121,
   "metadata": {},
   "outputs": [
    {
     "name": "stdout",
     "output_type": "stream",
     "text": [
      "\n"
     ]
    }
   ],
   "source": [
    "#Import libraries before starting"
   ]
  },
  {
   "cell_type": "markdown",
   "metadata": {},
   "source": [
    "## Problem 1: Mean-Variance Portfolio Optimization\n",
    "\n",
    "In this problem, we will be implementing a simple Mean-Variance portfolio optimization on S&P 500 index constituent stocks between 2015-2017. We will simply be training the optimizer between 2015-2016, and testing it on between 2016 and 2017. \n",
    "\n",
    "We assume that stocks can only be long, and all portfolio should be allocated to stocks (We cannot hold cash).\n",
    "\n",
    "You need to use cvxpy library to formulate and solve optimization problem. You can obtain the stock price data by Yahoo Finance library(yfinance).\n",
    "\n",
    "Run portfolio optimization for range of alphas: [0.1, 1.0, 5.0, 10.0]. Plot P&L curve for testing period. Calculate Information Ratio based on daily returns for the same testing period. Discuss which alpha value performs the best. Why?"
   ]
  },
  {
   "cell_type": "code",
   "execution_count": null,
   "metadata": {},
   "outputs": [],
   "source": [
    "#Solution 1"
   ]
  },
  {
   "cell_type": "markdown",
   "metadata": {},
   "source": [
    "## Problem 2: Mean-Variance Portfolio Optimization with Leverage\n",
    "\n",
    "Modify Problem 1 to take into account the leverage(So, we no longer have the long-only constraint). Use the best performing alpha from Problem 1.\n",
    "\n",
    "Run portfolio optimization for range of leverages: [1, 2, 4]. Plot P&L curve for testing period. Calculate Information Ratio based on daily returns for the same testing period. Discuss which leverage performs the best. Why?"
   ]
  },
  {
   "cell_type": "code",
   "execution_count": null,
   "metadata": {},
   "outputs": [],
   "source": [
    "#Solution 2"
   ]
  },
  {
   "cell_type": "markdown",
   "metadata": {},
   "source": [
    "## Problem 3: Data Cleaning\n",
    "\n",
    "Remember angle-based high-dimensional data cleaning method we discussed in the class. Assume you are given Real State Price dataset from Kaggle(Its train and test set partitioned versions have already been provided to you). For the sake of ease, you can focus only on numerical attributes.\n",
    "\n",
    "Implement the angle-based high-dimensional data cleaning method, where a point is defined as an outlier if the standard deviation of the all angle pairs is less than 20 (An angle is always between 0 and 360)."
   ]
  },
  {
   "cell_type": "code",
   "execution_count": 5,
   "metadata": {},
   "outputs": [],
   "source": [
    "#Solution 3"
   ]
  },
  {
   "cell_type": "markdown",
   "metadata": {},
   "source": [
    "## Problem 4: Linear Regression for Predicting House Price \n",
    "\n",
    "Let's focus on the same Real State Price dataset from Kaggle (Its train and test set partitioned versions have already been provided to you). We will implement a linear regression by using sklearn to predict house price(last column) by using the following attributes:\n",
    "MSSubClass, LotFrontage, LotArea, MasVnrArea, BsmtFinSF1, YrSold.\n",
    "\n",
    "Implement linear regression by using sklearn library. Report R2 value for test set. In order to see which attributes are significant, apply t-test. You can use statsmodels library to determine statistically-significant attributes."
   ]
  },
  {
   "cell_type": "code",
   "execution_count": null,
   "metadata": {},
   "outputs": [],
   "source": [
    "#Solution 4"
   ]
  },
  {
   "cell_type": "markdown",
   "metadata": {},
   "source": [
    "## Challenge Problem: Risk Parity Portfolio Optimization"
   ]
  },
  {
   "cell_type": "markdown",
   "metadata": {},
   "source": [
    "In this problem, we will be implementing risk-parity(equal risk contribution) portfolio optimization on S&P 500 \n",
    "index constituent stocks between 2015-2017. We will be training the optimizer between 2015-2016, and testing it on \n",
    "between 2016 and 2017.\n",
    "\n",
    "We assume that stocks can only be long, and all portfolio should be allocated to stocks (We cannot hold cash).\n",
    "\n",
    "You need to use cvxpy library to formulate and solve the corresponding optimization problem. Similar to previous \n",
    "questions, you can obtain the stock price data by Yahoo Finance library(yfinance).\n",
    "\n",
    "Plot P&L curve for testing period. Calculate Information Ratio based on daily returns for the same testing period. "
   ]
  },
  {
   "cell_type": "code",
   "execution_count": null,
   "metadata": {},
   "outputs": [],
   "source": [
    "#Solution for Challenge Problem"
   ]
  },
  {
   "cell_type": "markdown",
   "metadata": {},
   "source": [
    "---"
   ]
  }
 ],
 "metadata": {
  "anaconda-cloud": {},
  "kernelspec": {
   "display_name": "Python 3 (ipykernel)",
   "language": "python",
   "name": "python3"
  },
  "language_info": {
   "codemirror_mode": {
    "name": "ipython",
    "version": 3
   },
   "file_extension": ".py",
   "mimetype": "text/x-python",
   "name": "python",
   "nbconvert_exporter": "python",
   "pygments_lexer": "ipython3",
   "version": "3.11.4"
  }
 },
 "nbformat": 4,
 "nbformat_minor": 1
}
